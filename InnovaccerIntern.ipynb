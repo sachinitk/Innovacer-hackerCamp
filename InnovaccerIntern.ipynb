{
 "cells": [
  {
   "cell_type": "markdown",
   "metadata": {},
   "source": [
    "# INNOVACCER HACKERCAMP SUMMER INTERN ASSIGNMENT"
   ]
  },
  {
   "cell_type": "code",
   "execution_count": 1,
   "metadata": {},
   "outputs": [],
   "source": [
    "import os                                   # For OS related operations\n",
    "import dedupe                               # For ML stuff\n",
    "import pandas as pd                         # For Data Management and Representation\n",
    "from IPython.display import FileLink        # For Displaying the link in the Notebook itself          "
   ]
  },
  {
   "cell_type": "code",
   "execution_count": 2,
   "metadata": {},
   "outputs": [
    {
     "data": {
      "text/html": [
       "<div>\n",
       "<style>\n",
       "    .dataframe thead tr:only-child th {\n",
       "        text-align: right;\n",
       "    }\n",
       "\n",
       "    .dataframe thead th {\n",
       "        text-align: left;\n",
       "    }\n",
       "\n",
       "    .dataframe tbody tr th {\n",
       "        vertical-align: top;\n",
       "    }\n",
       "</style>\n",
       "<table border=\"1\" class=\"dataframe\">\n",
       "  <thead>\n",
       "    <tr style=\"text-align: right;\">\n",
       "      <th></th>\n",
       "      <th>ln</th>\n",
       "      <th>dob</th>\n",
       "      <th>gn</th>\n",
       "      <th>fn</th>\n",
       "    </tr>\n",
       "  </thead>\n",
       "  <tbody>\n",
       "    <tr>\n",
       "      <th>0</th>\n",
       "      <td>SMITH JR</td>\n",
       "      <td>01/03/68</td>\n",
       "      <td>F</td>\n",
       "      <td>WILLIAM</td>\n",
       "    </tr>\n",
       "    <tr>\n",
       "      <th>1</th>\n",
       "      <td>ROTHMEYER JR</td>\n",
       "      <td>01/03/68</td>\n",
       "      <td>F</td>\n",
       "      <td>WILLIAM</td>\n",
       "    </tr>\n",
       "    <tr>\n",
       "      <th>2</th>\n",
       "      <td>ASBY JR</td>\n",
       "      <td>01/03/68</td>\n",
       "      <td>F</td>\n",
       "      <td>WILLIAM</td>\n",
       "    </tr>\n",
       "    <tr>\n",
       "      <th>3</th>\n",
       "      <td>SALTER JR</td>\n",
       "      <td>01/03/68</td>\n",
       "      <td>F</td>\n",
       "      <td>WILLIAM</td>\n",
       "    </tr>\n",
       "    <tr>\n",
       "      <th>4</th>\n",
       "      <td>BLAND JR</td>\n",
       "      <td>21/02/62</td>\n",
       "      <td>F</td>\n",
       "      <td>WILLIAM</td>\n",
       "    </tr>\n",
       "  </tbody>\n",
       "</table>\n",
       "</div>"
      ],
      "text/plain": [
       "             ln       dob gn       fn\n",
       "0      SMITH JR  01/03/68  F  WILLIAM\n",
       "1  ROTHMEYER JR  01/03/68  F  WILLIAM\n",
       "2       ASBY JR  01/03/68  F  WILLIAM\n",
       "3     SALTER JR  01/03/68  F  WILLIAM\n",
       "4      BLAND JR  21/02/62  F  WILLIAM"
      ]
     },
     "execution_count": 2,
     "metadata": {},
     "output_type": "execute_result"
    }
   ],
   "source": [
    "# Loading the Dataset\n",
    "Data = pd.read_csv('./Train.csv')\n",
    "Data.head()"
   ]
  },
  {
   "cell_type": "code",
   "execution_count": 3,
   "metadata": {},
   "outputs": [
    {
     "name": "stdout",
     "output_type": "stream",
     "text": [
      "Dataset Shape:\n",
      "(50, 4)\n",
      "\n",
      "\n",
      "Dataset Columns/Features:\n",
      "ln     object\n",
      "dob    object\n",
      "gn     object\n",
      "fn     object\n",
      "dtype: object\n"
     ]
    },
    {
     "data": {
      "text/html": [
       "<div>\n",
       "<style>\n",
       "    .dataframe thead tr:only-child th {\n",
       "        text-align: right;\n",
       "    }\n",
       "\n",
       "    .dataframe thead th {\n",
       "        text-align: left;\n",
       "    }\n",
       "\n",
       "    .dataframe tbody tr th {\n",
       "        vertical-align: top;\n",
       "    }\n",
       "</style>\n",
       "<table border=\"1\" class=\"dataframe\">\n",
       "  <thead>\n",
       "    <tr style=\"text-align: right;\">\n",
       "      <th></th>\n",
       "      <th>ln</th>\n",
       "      <th>dob</th>\n",
       "      <th>gn</th>\n",
       "      <th>fn</th>\n",
       "    </tr>\n",
       "  </thead>\n",
       "  <tbody>\n",
       "    <tr>\n",
       "      <th>0</th>\n",
       "      <td>SMITH JR</td>\n",
       "      <td>01/03/68</td>\n",
       "      <td>F</td>\n",
       "      <td>WILLIAM</td>\n",
       "    </tr>\n",
       "    <tr>\n",
       "      <th>1</th>\n",
       "      <td>ROTHMEYER JR</td>\n",
       "      <td>01/03/68</td>\n",
       "      <td>F</td>\n",
       "      <td>WILLIAM</td>\n",
       "    </tr>\n",
       "    <tr>\n",
       "      <th>2</th>\n",
       "      <td>ASBY JR</td>\n",
       "      <td>01/03/68</td>\n",
       "      <td>F</td>\n",
       "      <td>WILLIAM</td>\n",
       "    </tr>\n",
       "    <tr>\n",
       "      <th>3</th>\n",
       "      <td>SALTER JR</td>\n",
       "      <td>01/03/68</td>\n",
       "      <td>F</td>\n",
       "      <td>WILLIAM</td>\n",
       "    </tr>\n",
       "    <tr>\n",
       "      <th>4</th>\n",
       "      <td>BLAND JR</td>\n",
       "      <td>21/02/62</td>\n",
       "      <td>F</td>\n",
       "      <td>WILLIAM</td>\n",
       "    </tr>\n",
       "  </tbody>\n",
       "</table>\n",
       "</div>"
      ],
      "text/plain": [
       "             ln       dob gn       fn\n",
       "0      SMITH JR  01/03/68  F  WILLIAM\n",
       "1  ROTHMEYER JR  01/03/68  F  WILLIAM\n",
       "2       ASBY JR  01/03/68  F  WILLIAM\n",
       "3     SALTER JR  01/03/68  F  WILLIAM\n",
       "4      BLAND JR  21/02/62  F  WILLIAM"
      ]
     },
     "execution_count": 3,
     "metadata": {},
     "output_type": "execute_result"
    }
   ],
   "source": [
    "print(\"Dataset Shape:\")\n",
    "print(Data.shape)\n",
    "print(\"\\n\")\n",
    "print(\"Dataset Columns/Features:\")\n",
    "print(Data.dtypes)\n",
    "Data.head()"
   ]
  },
  {
   "cell_type": "markdown",
   "metadata": {},
   "source": [
    "# Dataset Description\n",
    "## fn - FirstName, ln - LastName, gn - Gender, dob - DateOfBirth"
   ]
  },
  {
   "cell_type": "markdown",
   "metadata": {},
   "source": [
    "### We are adding ID Columns for further processing"
   ]
  },
  {
   "cell_type": "code",
   "execution_count": 4,
   "metadata": {},
   "outputs": [],
   "source": [
    "Data['ID'] = range(len(Data.index))"
   ]
  },
  {
   "cell_type": "code",
   "execution_count": 5,
   "metadata": {},
   "outputs": [
    {
     "data": {
      "text/html": [
       "<div>\n",
       "<style>\n",
       "    .dataframe thead tr:only-child th {\n",
       "        text-align: right;\n",
       "    }\n",
       "\n",
       "    .dataframe thead th {\n",
       "        text-align: left;\n",
       "    }\n",
       "\n",
       "    .dataframe tbody tr th {\n",
       "        vertical-align: top;\n",
       "    }\n",
       "</style>\n",
       "<table border=\"1\" class=\"dataframe\">\n",
       "  <thead>\n",
       "    <tr style=\"text-align: right;\">\n",
       "      <th></th>\n",
       "      <th>ln</th>\n",
       "      <th>dob</th>\n",
       "      <th>gn</th>\n",
       "      <th>fn</th>\n",
       "      <th>ID</th>\n",
       "    </tr>\n",
       "  </thead>\n",
       "  <tbody>\n",
       "    <tr>\n",
       "      <th>0</th>\n",
       "      <td>SMITH JR</td>\n",
       "      <td>01/03/68</td>\n",
       "      <td>F</td>\n",
       "      <td>WILLIAM</td>\n",
       "      <td>0</td>\n",
       "    </tr>\n",
       "    <tr>\n",
       "      <th>1</th>\n",
       "      <td>ROTHMEYER JR</td>\n",
       "      <td>01/03/68</td>\n",
       "      <td>F</td>\n",
       "      <td>WILLIAM</td>\n",
       "      <td>1</td>\n",
       "    </tr>\n",
       "    <tr>\n",
       "      <th>2</th>\n",
       "      <td>ASBY JR</td>\n",
       "      <td>01/03/68</td>\n",
       "      <td>F</td>\n",
       "      <td>WILLIAM</td>\n",
       "      <td>2</td>\n",
       "    </tr>\n",
       "    <tr>\n",
       "      <th>3</th>\n",
       "      <td>SALTER JR</td>\n",
       "      <td>01/03/68</td>\n",
       "      <td>F</td>\n",
       "      <td>WILLIAM</td>\n",
       "      <td>3</td>\n",
       "    </tr>\n",
       "    <tr>\n",
       "      <th>4</th>\n",
       "      <td>BLAND JR</td>\n",
       "      <td>21/02/62</td>\n",
       "      <td>F</td>\n",
       "      <td>WILLIAM</td>\n",
       "      <td>4</td>\n",
       "    </tr>\n",
       "  </tbody>\n",
       "</table>\n",
       "</div>"
      ],
      "text/plain": [
       "             ln       dob gn       fn  ID\n",
       "0      SMITH JR  01/03/68  F  WILLIAM   0\n",
       "1  ROTHMEYER JR  01/03/68  F  WILLIAM   1\n",
       "2       ASBY JR  01/03/68  F  WILLIAM   2\n",
       "3     SALTER JR  01/03/68  F  WILLIAM   3\n",
       "4      BLAND JR  21/02/62  F  WILLIAM   4"
      ]
     },
     "execution_count": 5,
     "metadata": {},
     "output_type": "execute_result"
    }
   ],
   "source": [
    "Data.head()"
   ]
  },
  {
   "cell_type": "markdown",
   "metadata": {},
   "source": [
    "#### The Column ID will be used to convert the dataframe to dictionary"
   ]
  },
  {
   "cell_type": "code",
   "execution_count": 6,
   "metadata": {},
   "outputs": [],
   "source": [
    "Train = Data.to_dict('ID')"
   ]
  },
  {
   "cell_type": "code",
   "execution_count": 7,
   "metadata": {},
   "outputs": [
    {
     "data": {
      "text/plain": [
       "{0: {'ID': 0, 'dob': '01/03/68', 'fn': 'WILLIAM', 'gn': 'F', 'ln': 'SMITH JR'},\n",
       " 1: {'ID': 1,\n",
       "  'dob': '01/03/68',\n",
       "  'fn': 'WILLIAM',\n",
       "  'gn': 'F',\n",
       "  'ln': 'ROTHMEYER JR'},\n",
       " 2: {'ID': 2, 'dob': '01/03/68', 'fn': 'WILLIAM', 'gn': 'F', 'ln': 'ASBY JR'},\n",
       " 3: {'ID': 3,\n",
       "  'dob': '01/03/68',\n",
       "  'fn': 'WILLIAM',\n",
       "  'gn': 'F',\n",
       "  'ln': 'SALTER JR'},\n",
       " 4: {'ID': 4, 'dob': '21/02/62', 'fn': 'WILLIAM', 'gn': 'F', 'ln': 'BLAND JR'},\n",
       " 5: {'ID': 5,\n",
       "  'dob': '21/02/62',\n",
       "  'fn': 'WILLIAM',\n",
       "  'gn': 'F',\n",
       "  'ln': 'SHAFFER JR'},\n",
       " 6: {'ID': 6, 'dob': '21/02/62', 'fn': 'BILL', 'gn': 'F', 'ln': 'BLAND JR'},\n",
       " 7: {'ID': 7, 'dob': '08/06/54', 'fn': 'WILLIAM', 'gn': 'F', 'ln': 'BLAND JR'},\n",
       " 8: {'ID': 8, 'dob': '25/10/53', 'fn': 'WILLIAM', 'gn': 'F', 'ln': 'BLAND JR'},\n",
       " 9: {'ID': 9,\n",
       "  'dob': '25/10/53',\n",
       "  'fn': 'WILLIAM',\n",
       "  'gn': 'F',\n",
       "  'ln': 'SHAFFER JR'},\n",
       " 10: {'ID': 10,\n",
       "  'dob': '25/10/53',\n",
       "  'fn': 'THOMAS',\n",
       "  'gn': 'F',\n",
       "  'ln': 'DUNCAN JR'},\n",
       " 11: {'ID': 11, 'dob': '25/10/53', 'fn': 'ROY', 'gn': 'F', 'ln': 'CARLSON JR'},\n",
       " 12: {'ID': 12, 'dob': '25/10/53', 'fn': 'ROY', 'gn': 'M', 'ln': 'MICHAELSON'},\n",
       " 13: {'ID': 13,\n",
       "  'dob': '01/05/51',\n",
       "  'fn': 'ROY',\n",
       "  'gn': 'M',\n",
       "  'ln': 'MICHAELSON JR'},\n",
       " 14: {'ID': 14,\n",
       "  'dob': '17/06/48',\n",
       "  'fn': 'ROY',\n",
       "  'gn': 'M',\n",
       "  'ln': 'MICHAELSON JR'},\n",
       " 15: {'ID': 15,\n",
       "  'dob': '09/04/47',\n",
       "  'fn': 'ROY',\n",
       "  'gn': 'M',\n",
       "  'ln': 'MICHAELSON JR'},\n",
       " 16: {'ID': 16,\n",
       "  'dob': '09/04/47',\n",
       "  'fn': 'ROBERT',\n",
       "  'gn': 'M',\n",
       "  'ln': 'MICHAELSON JR'},\n",
       " 17: {'ID': 17,\n",
       "  'dob': '09/04/47',\n",
       "  'fn': 'BOB',\n",
       "  'gn': 'M',\n",
       "  'ln': 'MICHAELSON JR'},\n",
       " 18: {'ID': 18,\n",
       "  'dob': '11/03/47',\n",
       "  'fn': 'OWEN',\n",
       "  'gn': 'M',\n",
       "  'ln': 'MUSTAPHA JR'},\n",
       " 19: {'ID': 19,\n",
       "  'dob': '31/01/46',\n",
       "  'fn': 'LAWRENCE',\n",
       "  'gn': 'M',\n",
       "  'ln': 'HOUGHTON JR'},\n",
       " 20: {'ID': 20,\n",
       "  'dob': '31/01/46',\n",
       "  'fn': 'LAWRENCE',\n",
       "  'gn': 'M',\n",
       "  'ln': 'LIND JR'},\n",
       " 21: {'ID': 21,\n",
       "  'dob': '31/01/46',\n",
       "  'fn': 'KENNETH',\n",
       "  'gn': 'M',\n",
       "  'ln': 'LIND JR'},\n",
       " 22: {'ID': 22, 'dob': '20/01/46', 'fn': 'JOHN', 'gn': 'M', 'ln': 'LIND JR'},\n",
       " 23: {'ID': 23, 'dob': '20/01/46', 'fn': 'JOHN', 'gn': 'M', 'ln': 'CAIN JR'},\n",
       " 24: {'ID': 24, 'dob': '09/06/45', 'fn': 'JOHN', 'gn': 'M', 'ln': 'CLARK'},\n",
       " 25: {'ID': 25, 'dob': '09/02/45', 'fn': 'RONALD', 'gn': 'M', 'ln': 'CLARK'},\n",
       " 26: {'ID': 26, 'dob': '16/12/44', 'fn': 'JOHN', 'gn': 'M', 'ln': 'CLARK'},\n",
       " 27: {'ID': 27,\n",
       "  'dob': '16/12/44',\n",
       "  'fn': 'JOHN',\n",
       "  'gn': 'M',\n",
       "  'ln': 'MICHAELSON JR'},\n",
       " 28: {'ID': 28,\n",
       "  'dob': '24/04/40',\n",
       "  'fn': 'JOHN',\n",
       "  'gn': 'M',\n",
       "  'ln': 'MICHAELSON JR'},\n",
       " 29: {'ID': 29,\n",
       "  'dob': '24/06/39',\n",
       "  'fn': 'JOHN',\n",
       "  'gn': 'M',\n",
       "  'ln': 'MICHAELSON JR'},\n",
       " 30: {'ID': 30,\n",
       "  'dob': '24/06/39',\n",
       "  'fn': 'JAMES',\n",
       "  'gn': 'M',\n",
       "  'ln': 'MICHAELSON JR'},\n",
       " 31: {'ID': 31,\n",
       "  'dob': '24/06/39',\n",
       "  'fn': 'JACK',\n",
       "  'gn': 'M',\n",
       "  'ln': 'MICHAELSON JR'},\n",
       " 32: {'ID': 32,\n",
       "  'dob': '09/06/39',\n",
       "  'fn': 'JACK',\n",
       "  'gn': 'M',\n",
       "  'ln': 'MICHAELSON JR'},\n",
       " 33: {'ID': 33,\n",
       "  'dob': '09/06/39',\n",
       "  'fn': 'HAROLD',\n",
       "  'gn': 'M',\n",
       "  'ln': 'LARSON JR'},\n",
       " 34: {'ID': 34,\n",
       "  'dob': '07/10/37',\n",
       "  'fn': 'HAROLD',\n",
       "  'gn': 'M',\n",
       "  'ln': 'MUSTAPHA JR'},\n",
       " 35: {'ID': 35,\n",
       "  'dob': '07/10/37',\n",
       "  'fn': 'HAROLD',\n",
       "  'gn': 'M',\n",
       "  'ln': 'HOUGHTON JR'},\n",
       " 36: {'ID': 36,\n",
       "  'dob': '07/10/37',\n",
       "  'fn': 'HAROLD',\n",
       "  'gn': 'M',\n",
       "  'ln': 'MELVIN JR'},\n",
       " 37: {'ID': 37,\n",
       "  'dob': '07/10/37',\n",
       "  'fn': 'HAROLD',\n",
       "  'gn': 'M',\n",
       "  'ln': 'CHAVAS JR'},\n",
       " 38: {'ID': 38,\n",
       "  'dob': '07/10/37',\n",
       "  'fn': 'HAROLD',\n",
       "  'gn': 'M',\n",
       "  'ln': 'MICHAELSON JR'},\n",
       " 39: {'ID': 39,\n",
       "  'dob': '07/10/37',\n",
       "  'fn': 'HAROLD',\n",
       "  'gn': 'M',\n",
       "  'ln': 'SMITH JR'},\n",
       " 40: {'ID': 40,\n",
       "  'dob': '07/10/37',\n",
       "  'fn': 'HAROLD',\n",
       "  'gn': 'M',\n",
       "  'ln': 'FAGEN JR'},\n",
       " 41: {'ID': 41,\n",
       "  'dob': '07/10/37',\n",
       "  'fn': 'GEORGE',\n",
       "  'gn': 'M',\n",
       "  'ln': 'FAGEN JR'},\n",
       " 42: {'ID': 42,\n",
       "  'dob': '07/10/37',\n",
       "  'fn': 'DARH',\n",
       "  'gn': 'M',\n",
       "  'ln': 'GRIFFIN JR'},\n",
       " 43: {'ID': 43,\n",
       "  'dob': '10/07/37',\n",
       "  'fn': 'DARL',\n",
       "  'gn': 'M',\n",
       "  'ln': 'GRIFFIN JR'},\n",
       " 44: {'ID': 44,\n",
       "  'dob': '07/05/37',\n",
       "  'fn': 'DARL',\n",
       "  'gn': 'M',\n",
       "  'ln': 'GRIFFIN JR'},\n",
       " 45: {'ID': 45,\n",
       "  'dob': '07/05/37',\n",
       "  'fn': 'CLIFFORD',\n",
       "  'gn': 'M',\n",
       "  'ln': 'GRIFFIN JR'},\n",
       " 46: {'ID': 46,\n",
       "  'dob': '07/05/37',\n",
       "  'fn': 'CLARENCE',\n",
       "  'gn': 'M',\n",
       "  'ln': 'GRIFFIN JR'},\n",
       " 47: {'ID': 47,\n",
       "  'dob': '24/11/34',\n",
       "  'fn': 'ADDISON J',\n",
       "  'gn': 'M',\n",
       "  'ln': 'HANNA'},\n",
       " 48: {'ID': 48,\n",
       "  'dob': '15/10/32',\n",
       "  'fn': 'ADDISON',\n",
       "  'gn': 'M',\n",
       "  'ln': 'GALETICH JR'},\n",
       " 49: {'ID': 49,\n",
       "  'dob': '06/12/37',\n",
       "  'fn': 'HARRIET',\n",
       "  'gn': 'F',\n",
       "  'ln': 'FUNARO JONES'}}"
      ]
     },
     "execution_count": 7,
     "metadata": {},
     "output_type": "execute_result"
    }
   ],
   "source": [
    "Train"
   ]
  },
  {
   "cell_type": "code",
   "execution_count": 8,
   "metadata": {},
   "outputs": [],
   "source": [
    "settings_file = 'csv_example_learned_settings'\n",
    "training_file = 'csv_example_training.json'"
   ]
  },
  {
   "cell_type": "markdown",
   "metadata": {},
   "source": [
    "# Training The Model"
   ]
  },
  {
   "cell_type": "code",
   "execution_count": 9,
   "metadata": {},
   "outputs": [
    {
     "name": "stderr",
     "output_type": "stream",
     "text": [
      "INFO:dedupe.api:((SimplePredicate: (twoGramFingerprint, dob), TfidfTextCanopyPredicate: (0.4, ln)),)\n"
     ]
    },
    {
     "name": "stdout",
     "output_type": "stream",
     "text": [
      "reading from csv_example_learned_settings\n"
     ]
    }
   ],
   "source": [
    "# If a settings file already exists, we'll just load that and skip training\n",
    "if os.path.exists(settings_file):\n",
    "    print('reading from', settings_file)\n",
    "    with open(settings_file, 'rb') as f:\n",
    "        deduper = dedupe.StaticDedupe(f)\n",
    "else:\n",
    "    # ## Training\n",
    "\n",
    "    # Define the fields dedupe will pay attention to\n",
    "    fields = [\n",
    "            {'field' : 'ln', 'type': 'String'},\n",
    "            {'field' : 'dob', 'type': 'String'},\n",
    "            {'field' : 'gn', 'type': 'String'},\n",
    "            {'field' : 'fn', 'type': 'String'},\n",
    "        ]\n",
    "\n",
    "    # Create a new deduper object and pass our data model to it.\n",
    "    deduper = dedupe.Dedupe(fields)\n",
    "\n",
    "    # To train dedupe, we feed it a sample of records.\n",
    "    deduper.sample(Train, 15000)\n",
    "\n",
    "    # If we have training data saved from a previous run of dedupe,\n",
    "    # look for it and load it in.\n",
    "    # __Note:__ if you want to train from scratch, delete the training_file\n",
    "    if os.path.exists(training_file):\n",
    "        print('reading labeled examples from ', training_file)\n",
    "        with open(training_file, 'rb') as f:\n",
    "            deduper.readTraining(f)\n",
    "\n",
    "    # ## Active learning\n",
    "    # Dedupe will find the next pair of records\n",
    "    # it is least certain about and ask you to label them as duplicates\n",
    "    # or not.\n",
    "    # use 'y', 'n' and 'u' keys to flag duplicates\n",
    "    # press 'f' when you are finished\n",
    "    print('starting active labeling...')\n",
    "    dedupe.consoleLabel(deduper)\n",
    "\n",
    "    # Using the examples we just labeled, train the deduper and learn\n",
    "    # blocking predicates\n",
    "    deduper.train()\n",
    "\n",
    "    # When finished, save our training to disk\n",
    "    with open(training_file, 'w') as tf:\n",
    "        deduper.writeTraining(tf)\n",
    "\n",
    "    # Save our weights and predicates to disk.  If the settings file\n",
    "    # exists, we will skip all the training and learning next time we run\n",
    "    # this file.\n",
    "    with open(settings_file, 'wb') as sf:\n",
    "        deduper.writeSettings(sf)"
   ]
  },
  {
   "cell_type": "code",
   "execution_count": 10,
   "metadata": {},
   "outputs": [
    {
     "name": "stderr",
     "output_type": "stream",
     "text": [
      "INFO:dedupe.api:Maximum expected recall and precision\n",
      "INFO:dedupe.api:recall: 0.473\n",
      "INFO:dedupe.api:precision: 0.366\n",
      "INFO:dedupe.api:With threshold: 0.366\n"
     ]
    }
   ],
   "source": [
    "threshold = deduper.threshold(Train, recall_weight=1)"
   ]
  },
  {
   "cell_type": "code",
   "execution_count": 11,
   "metadata": {},
   "outputs": [
    {
     "name": "stdout",
     "output_type": "stream",
     "text": [
      "clustering...\n"
     ]
    },
    {
     "data": {
      "text/plain": [
       "[((4, 6), (0.36583894, 0.36583894)),\n",
       " ((40, 41), (1.2275987e-06, 1.2275987e-06)),\n",
       " ((20, 21), (2.4787007e-05, 2.4787007e-05))]"
      ]
     },
     "execution_count": 11,
     "metadata": {},
     "output_type": "execute_result"
    }
   ],
   "source": [
    "print('clustering...')\n",
    "clustered_dupes = deduper.match(Train, threshold)\n",
    "clustered_dupes"
   ]
  },
  {
   "cell_type": "code",
   "execution_count": 12,
   "metadata": {},
   "outputs": [
    {
     "name": "stdout",
     "output_type": "stream",
     "text": [
      "[{'dob': '21/02/62', 'fn': 'WILLIAM', 'ln': 'BLAND JR', 'gn': 'F', 'ID': 4}, {'dob': '21/02/62', 'fn': 'BILL', 'ln': 'BLAND JR', 'gn': 'F', 'ID': 6}]\n",
      "\n",
      "[{'dob': '07/10/37', 'fn': 'HAROLD', 'ln': 'FAGEN JR', 'gn': 'M', 'ID': 40}, {'dob': '07/10/37', 'fn': 'GEORGE', 'ln': 'FAGEN JR', 'gn': 'M', 'ID': 41}]\n",
      "\n",
      "[{'dob': '31/01/46', 'fn': 'LAWRENCE', 'ln': 'LIND JR', 'gn': 'M', 'ID': 20}, {'dob': '31/01/46', 'fn': 'KENNETH', 'ln': 'LIND JR', 'gn': 'M', 'ID': 21}]\n",
      "\n"
     ]
    }
   ],
   "source": [
    "for (cluster_id, cluster) in enumerate(clustered_dupes):\n",
    "    id_set, scores = cluster\n",
    "    cluster_d = [Train[c] for c in id_set]\n",
    "    print(cluster_d)\n",
    "    print()"
   ]
  },
  {
   "cell_type": "code",
   "execution_count": 13,
   "metadata": {},
   "outputs": [],
   "source": [
    "list1 = [] # list1 contains all the entries for duplicate record clusters for ex. (66, 67, 68, 69, 70, 71, 72, 73, 74)\n",
    "list2 = [] # list2 contains the first entry of the duplicate record for each cluster we have found for ex.(66)\n",
    "newlist = [] # newlist contains the entries except list2 which is for ex. (67, 68, 69, 70, 71, 72, 73, 74)\n",
    "finallist = [] # finallist contains all the indexes except those present in newlist"
   ]
  },
  {
   "cell_type": "code",
   "execution_count": 14,
   "metadata": {},
   "outputs": [],
   "source": [
    "for (cluster_id, cluster) in enumerate(clustered_dupes):\n",
    "    list2.append(cluster[0][0])\n",
    "    for i in cluster[0]:\n",
    "        list1.append(i)\n",
    "\n",
    "newlist = list(set(list1) - set(list2))\n",
    "\n",
    "for i in range(Data.shape[0]):\n",
    "    finallist.append(i)\n",
    "\n",
    "finallist = list(set(finallist) - set(newlist))"
   ]
  },
  {
   "cell_type": "code",
   "execution_count": 15,
   "metadata": {},
   "outputs": [],
   "source": [
    "FinalDF = pd.DataFrame(columns=['ln','dob','gn','fn'])\n",
    "for i in finallist:\n",
    "    FinalDF = FinalDF.append(Data.iloc[i])\n",
    "\n",
    "FinalDF = FinalDF.drop(['ID'], axis=1)"
   ]
  },
  {
   "cell_type": "code",
   "execution_count": 16,
   "metadata": {},
   "outputs": [
    {
     "data": {
      "text/html": [
       "<div>\n",
       "<style>\n",
       "    .dataframe thead tr:only-child th {\n",
       "        text-align: right;\n",
       "    }\n",
       "\n",
       "    .dataframe thead th {\n",
       "        text-align: left;\n",
       "    }\n",
       "\n",
       "    .dataframe tbody tr th {\n",
       "        vertical-align: top;\n",
       "    }\n",
       "</style>\n",
       "<table border=\"1\" class=\"dataframe\">\n",
       "  <thead>\n",
       "    <tr style=\"text-align: right;\">\n",
       "      <th></th>\n",
       "      <th>ln</th>\n",
       "      <th>dob</th>\n",
       "      <th>gn</th>\n",
       "      <th>fn</th>\n",
       "    </tr>\n",
       "  </thead>\n",
       "  <tbody>\n",
       "    <tr>\n",
       "      <th>0</th>\n",
       "      <td>SMITH JR</td>\n",
       "      <td>01/03/68</td>\n",
       "      <td>F</td>\n",
       "      <td>WILLIAM</td>\n",
       "    </tr>\n",
       "    <tr>\n",
       "      <th>1</th>\n",
       "      <td>ROTHMEYER JR</td>\n",
       "      <td>01/03/68</td>\n",
       "      <td>F</td>\n",
       "      <td>WILLIAM</td>\n",
       "    </tr>\n",
       "    <tr>\n",
       "      <th>2</th>\n",
       "      <td>ASBY JR</td>\n",
       "      <td>01/03/68</td>\n",
       "      <td>F</td>\n",
       "      <td>WILLIAM</td>\n",
       "    </tr>\n",
       "    <tr>\n",
       "      <th>3</th>\n",
       "      <td>SALTER JR</td>\n",
       "      <td>01/03/68</td>\n",
       "      <td>F</td>\n",
       "      <td>WILLIAM</td>\n",
       "    </tr>\n",
       "    <tr>\n",
       "      <th>4</th>\n",
       "      <td>BLAND JR</td>\n",
       "      <td>21/02/62</td>\n",
       "      <td>F</td>\n",
       "      <td>WILLIAM</td>\n",
       "    </tr>\n",
       "  </tbody>\n",
       "</table>\n",
       "</div>"
      ],
      "text/plain": [
       "             ln       dob gn       fn\n",
       "0      SMITH JR  01/03/68  F  WILLIAM\n",
       "1  ROTHMEYER JR  01/03/68  F  WILLIAM\n",
       "2       ASBY JR  01/03/68  F  WILLIAM\n",
       "3     SALTER JR  01/03/68  F  WILLIAM\n",
       "4      BLAND JR  21/02/62  F  WILLIAM"
      ]
     },
     "execution_count": 16,
     "metadata": {},
     "output_type": "execute_result"
    }
   ],
   "source": [
    "FinalDF.head()"
   ]
  },
  {
   "cell_type": "code",
   "execution_count": 17,
   "metadata": {},
   "outputs": [
    {
     "data": {
      "text/html": [
       "<a href='Train_Correct.csv' target='_blank'>Train_Correct.csv</a><br>"
      ],
      "text/plain": [
       "/home/sparsh/Desktop/Innovaccer/Train_Correct.csv"
      ]
     },
     "execution_count": 17,
     "metadata": {},
     "output_type": "execute_result"
    }
   ],
   "source": [
    "filename = 'Train_Correct.csv'\n",
    "FinalDF.to_csv(filename, index=False)\n",
    "FileLink(filename)"
   ]
  },
  {
   "cell_type": "markdown",
   "metadata": {},
   "source": [
    "# Testing The Model On TestData"
   ]
  },
  {
   "cell_type": "code",
   "execution_count": 18,
   "metadata": {},
   "outputs": [
    {
     "data": {
      "text/html": [
       "<div>\n",
       "<style>\n",
       "    .dataframe thead tr:only-child th {\n",
       "        text-align: right;\n",
       "    }\n",
       "\n",
       "    .dataframe thead th {\n",
       "        text-align: left;\n",
       "    }\n",
       "\n",
       "    .dataframe tbody tr th {\n",
       "        vertical-align: top;\n",
       "    }\n",
       "</style>\n",
       "<table border=\"1\" class=\"dataframe\">\n",
       "  <thead>\n",
       "    <tr style=\"text-align: right;\">\n",
       "      <th></th>\n",
       "      <th>ln</th>\n",
       "      <th>dob</th>\n",
       "      <th>gn</th>\n",
       "      <th>fn</th>\n",
       "    </tr>\n",
       "  </thead>\n",
       "  <tbody>\n",
       "    <tr>\n",
       "      <th>0</th>\n",
       "      <td>Frometa</td>\n",
       "      <td>24/11/34</td>\n",
       "      <td>F</td>\n",
       "      <td>Vladimir</td>\n",
       "    </tr>\n",
       "    <tr>\n",
       "      <th>1</th>\n",
       "      <td>Frometa Garo</td>\n",
       "      <td>24/11/34</td>\n",
       "      <td>F</td>\n",
       "      <td>Vladimir Antonio</td>\n",
       "    </tr>\n",
       "    <tr>\n",
       "      <th>2</th>\n",
       "      <td>Frometa Garo</td>\n",
       "      <td>24/11/34</td>\n",
       "      <td>F</td>\n",
       "      <td>Vladimir A</td>\n",
       "    </tr>\n",
       "    <tr>\n",
       "      <th>3</th>\n",
       "      <td>Frometa</td>\n",
       "      <td>24/11/34</td>\n",
       "      <td>F</td>\n",
       "      <td>Vladimir</td>\n",
       "    </tr>\n",
       "    <tr>\n",
       "      <th>4</th>\n",
       "      <td>Frometa G</td>\n",
       "      <td>24/11/34</td>\n",
       "      <td>F</td>\n",
       "      <td>Vladimir</td>\n",
       "    </tr>\n",
       "    <tr>\n",
       "      <th>5</th>\n",
       "      <td>Frometa</td>\n",
       "      <td>24/11/34</td>\n",
       "      <td>F</td>\n",
       "      <td>Vladimir A</td>\n",
       "    </tr>\n",
       "    <tr>\n",
       "      <th>6</th>\n",
       "      <td>Frometa G</td>\n",
       "      <td>24/11/34</td>\n",
       "      <td>F</td>\n",
       "      <td>Vladimir A</td>\n",
       "    </tr>\n",
       "    <tr>\n",
       "      <th>7</th>\n",
       "      <td>Dutta</td>\n",
       "      <td>24/11/34</td>\n",
       "      <td>M</td>\n",
       "      <td>Sparsh</td>\n",
       "    </tr>\n",
       "    <tr>\n",
       "      <th>8</th>\n",
       "      <td>Dutta K</td>\n",
       "      <td>24/11/34</td>\n",
       "      <td>M</td>\n",
       "      <td>Sparsh</td>\n",
       "    </tr>\n",
       "  </tbody>\n",
       "</table>\n",
       "</div>"
      ],
      "text/plain": [
       "             ln       dob gn                fn\n",
       "0       Frometa  24/11/34  F         Vladimir \n",
       "1  Frometa Garo  24/11/34  F  Vladimir Antonio\n",
       "2  Frometa Garo  24/11/34  F        Vladimir A\n",
       "3       Frometa  24/11/34  F          Vladimir\n",
       "4     Frometa G  24/11/34  F          Vladimir\n",
       "5       Frometa  24/11/34  F       Vladimir A \n",
       "6     Frometa G  24/11/34  F       Vladimir A \n",
       "7         Dutta  24/11/34  M            Sparsh\n",
       "8       Dutta K  24/11/34  M            Sparsh"
      ]
     },
     "execution_count": 18,
     "metadata": {},
     "output_type": "execute_result"
    }
   ],
   "source": [
    "TestData = pd.read_csv('Test.csv')\n",
    "TestData"
   ]
  },
  {
   "cell_type": "code",
   "execution_count": 19,
   "metadata": {},
   "outputs": [],
   "source": [
    "TestData['ID'] = range(len(TestData.index))"
   ]
  },
  {
   "cell_type": "code",
   "execution_count": 20,
   "metadata": {},
   "outputs": [
    {
     "data": {
      "text/plain": [
       "{0: {'ID': 0,\n",
       "  'dob': '24/11/34',\n",
       "  'fn': 'Vladimir ',\n",
       "  'gn': 'F',\n",
       "  'ln': 'Frometa'},\n",
       " 1: {'ID': 1,\n",
       "  'dob': '24/11/34',\n",
       "  'fn': 'Vladimir Antonio',\n",
       "  'gn': 'F',\n",
       "  'ln': 'Frometa Garo'},\n",
       " 2: {'ID': 2,\n",
       "  'dob': '24/11/34',\n",
       "  'fn': 'Vladimir A',\n",
       "  'gn': 'F',\n",
       "  'ln': 'Frometa Garo'},\n",
       " 3: {'ID': 3, 'dob': '24/11/34', 'fn': 'Vladimir', 'gn': 'F', 'ln': 'Frometa'},\n",
       " 4: {'ID': 4,\n",
       "  'dob': '24/11/34',\n",
       "  'fn': 'Vladimir',\n",
       "  'gn': 'F',\n",
       "  'ln': 'Frometa G'},\n",
       " 5: {'ID': 5,\n",
       "  'dob': '24/11/34',\n",
       "  'fn': 'Vladimir A ',\n",
       "  'gn': 'F',\n",
       "  'ln': 'Frometa'},\n",
       " 6: {'ID': 6,\n",
       "  'dob': '24/11/34',\n",
       "  'fn': 'Vladimir A ',\n",
       "  'gn': 'F',\n",
       "  'ln': 'Frometa G'},\n",
       " 7: {'ID': 7, 'dob': '24/11/34', 'fn': 'Sparsh', 'gn': 'M', 'ln': 'Dutta'},\n",
       " 8: {'ID': 8, 'dob': '24/11/34', 'fn': 'Sparsh', 'gn': 'M', 'ln': 'Dutta K'}}"
      ]
     },
     "execution_count": 20,
     "metadata": {},
     "output_type": "execute_result"
    }
   ],
   "source": [
    "Test = TestData.to_dict('ID')\n",
    "Test"
   ]
  },
  {
   "cell_type": "code",
   "execution_count": 21,
   "metadata": {},
   "outputs": [
    {
     "name": "stdout",
     "output_type": "stream",
     "text": [
      "Test Data Clustering...\n"
     ]
    },
    {
     "data": {
      "text/plain": [
       "[((0, 1, 2, 3, 4, 5, 6),\n",
       "  array([0.93367286, 0.87325241, 0.9323102 , 0.93295265, 0.93323344,\n",
       "         0.91185586, 0.91374632])),\n",
       " ((7, 8), (0.9455035, 0.9455035))]"
      ]
     },
     "execution_count": 21,
     "metadata": {},
     "output_type": "execute_result"
    }
   ],
   "source": [
    "print('Test Data Clustering...')\n",
    "clustered_dupes = deduper.match(Test, threshold)\n",
    "clustered_dupes"
   ]
  },
  {
   "cell_type": "code",
   "execution_count": 22,
   "metadata": {},
   "outputs": [
    {
     "name": "stdout",
     "output_type": "stream",
     "text": [
      "[{'dob': '24/11/34', 'fn': 'Vladimir ', 'ln': 'Frometa', 'gn': 'F', 'ID': 0}, {'dob': '24/11/34', 'fn': 'Vladimir Antonio', 'ln': 'Frometa Garo', 'gn': 'F', 'ID': 1}, {'dob': '24/11/34', 'fn': 'Vladimir A', 'ln': 'Frometa Garo', 'gn': 'F', 'ID': 2}, {'dob': '24/11/34', 'fn': 'Vladimir', 'ln': 'Frometa', 'gn': 'F', 'ID': 3}, {'dob': '24/11/34', 'fn': 'Vladimir', 'ln': 'Frometa G', 'gn': 'F', 'ID': 4}, {'dob': '24/11/34', 'fn': 'Vladimir A ', 'ln': 'Frometa', 'gn': 'F', 'ID': 5}, {'dob': '24/11/34', 'fn': 'Vladimir A ', 'ln': 'Frometa G', 'gn': 'F', 'ID': 6}]\n",
      "\n",
      "[{'dob': '24/11/34', 'fn': 'Sparsh', 'ln': 'Dutta', 'gn': 'M', 'ID': 7}, {'dob': '24/11/34', 'fn': 'Sparsh', 'ln': 'Dutta K', 'gn': 'M', 'ID': 8}]\n",
      "\n"
     ]
    }
   ],
   "source": [
    "for (cluster_id, cluster) in enumerate(clustered_dupes):\n",
    "    id_set, scores = cluster\n",
    "    cluster_d = [Test[c] for c in id_set]\n",
    "    print(cluster_d)\n",
    "    print()"
   ]
  },
  {
   "cell_type": "code",
   "execution_count": 23,
   "metadata": {},
   "outputs": [],
   "source": [
    "list1 = [] # list1 contains all the entries for duplicate record clusters for ex. (66, 67, 68, 69, 70, 71, 72, 73, 74)\n",
    "list2 = [] # list2 contains the first entry of the duplicate record for each cluster we have found for ex.(66)\n",
    "newlist = [] # newlist contains the entries except list2 which is for ex. (67, 68, 69, 70, 71, 72, 73, 74)\n",
    "finallist = [] # finallist contains all the indexes except those present in newlist"
   ]
  },
  {
   "cell_type": "code",
   "execution_count": 24,
   "metadata": {},
   "outputs": [],
   "source": [
    "for (cluster_id, cluster) in enumerate(clustered_dupes):\n",
    "    list2.append(cluster[0][0])\n",
    "    for i in cluster[0]:\n",
    "        list1.append(i)\n",
    "\n",
    "newlist = list(set(list1) - set(list2))\n",
    "\n",
    "for i in range(TestData.shape[0]):\n",
    "    finallist.append(i)\n",
    "\n",
    "finallist = list(set(finallist) - set(newlist))"
   ]
  },
  {
   "cell_type": "code",
   "execution_count": 25,
   "metadata": {},
   "outputs": [
    {
     "data": {
      "text/plain": [
       "[0, 7]"
      ]
     },
     "execution_count": 25,
     "metadata": {},
     "output_type": "execute_result"
    }
   ],
   "source": [
    "finallist"
   ]
  },
  {
   "cell_type": "code",
   "execution_count": 26,
   "metadata": {},
   "outputs": [],
   "source": [
    "FinalDF = pd.DataFrame(columns=['ln','dob','gn','fn'])\n",
    "for i in finallist:\n",
    "    FinalDF = FinalDF.append(TestData.iloc[i])\n",
    "\n",
    "FinalDF = FinalDF.drop(['ID'], axis=1)"
   ]
  },
  {
   "cell_type": "code",
   "execution_count": 27,
   "metadata": {},
   "outputs": [
    {
     "data": {
      "text/html": [
       "<div>\n",
       "<style>\n",
       "    .dataframe thead tr:only-child th {\n",
       "        text-align: right;\n",
       "    }\n",
       "\n",
       "    .dataframe thead th {\n",
       "        text-align: left;\n",
       "    }\n",
       "\n",
       "    .dataframe tbody tr th {\n",
       "        vertical-align: top;\n",
       "    }\n",
       "</style>\n",
       "<table border=\"1\" class=\"dataframe\">\n",
       "  <thead>\n",
       "    <tr style=\"text-align: right;\">\n",
       "      <th></th>\n",
       "      <th>ln</th>\n",
       "      <th>dob</th>\n",
       "      <th>gn</th>\n",
       "      <th>fn</th>\n",
       "    </tr>\n",
       "  </thead>\n",
       "  <tbody>\n",
       "    <tr>\n",
       "      <th>0</th>\n",
       "      <td>Frometa</td>\n",
       "      <td>24/11/34</td>\n",
       "      <td>F</td>\n",
       "      <td>Vladimir</td>\n",
       "    </tr>\n",
       "    <tr>\n",
       "      <th>7</th>\n",
       "      <td>Dutta</td>\n",
       "      <td>24/11/34</td>\n",
       "      <td>M</td>\n",
       "      <td>Sparsh</td>\n",
       "    </tr>\n",
       "  </tbody>\n",
       "</table>\n",
       "</div>"
      ],
      "text/plain": [
       "        ln       dob gn         fn\n",
       "0  Frometa  24/11/34  F  Vladimir \n",
       "7    Dutta  24/11/34  M     Sparsh"
      ]
     },
     "execution_count": 27,
     "metadata": {},
     "output_type": "execute_result"
    }
   ],
   "source": [
    "FinalDF.head()"
   ]
  },
  {
   "cell_type": "code",
   "execution_count": 28,
   "metadata": {},
   "outputs": [
    {
     "data": {
      "text/html": [
       "<a href='Test_Correct.csv' target='_blank'>Test_Correct.csv</a><br>"
      ],
      "text/plain": [
       "/home/sparsh/Desktop/Innovaccer/Test_Correct.csv"
      ]
     },
     "execution_count": 28,
     "metadata": {},
     "output_type": "execute_result"
    }
   ],
   "source": [
    "filename = 'Test_Correct.csv'\n",
    "FinalDF.to_csv(filename, index=False)\n",
    "FileLink(filename)"
   ]
  }
 ],
 "metadata": {
  "kernelspec": {
   "display_name": "Python 3",
   "language": "python",
   "name": "python3"
  },
  "language_info": {
   "codemirror_mode": {
    "name": "ipython",
    "version": 3
   },
   "file_extension": ".py",
   "mimetype": "text/x-python",
   "name": "python",
   "nbconvert_exporter": "python",
   "pygments_lexer": "ipython3",
   "version": "3.5.4"
  }
 },
 "nbformat": 4,
 "nbformat_minor": 2
}
